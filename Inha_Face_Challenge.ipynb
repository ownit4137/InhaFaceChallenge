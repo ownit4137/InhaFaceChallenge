{
  "nbformat": 4,
  "nbformat_minor": 0,
  "metadata": {
    "colab": {
      "name": "Inha Face Challenge",
      "provenance": [],
      "collapsed_sections": [],
      "machine_shape": "hm"
    },
    "kernelspec": {
      "display_name": "Python 3",
      "name": "python3"
    },
    "language_info": {
      "name": "python"
    },
    "accelerator": "GPU"
  },
  "cells": [
    {
      "cell_type": "code",
      "metadata": {
        "colab": {
          "base_uri": "https://localhost:8080/"
        },
        "id": "LCVnnD7-Vson",
        "outputId": "c4584f0d-5ac9-400e-8d88-8875a6171635"
      },
      "source": [
        "%cd /content/\n",
        "# !7z x /content/drive/MyDrive/inha_data.zip -o/content/ &> /dev/null\n",
        "# !7z x /content/inha_data/train.zip -o/content/inha_data/train/ &> /dev/null\n",
        "# !rm /content/inha_data/train.zip\n",
        "# !7z x /content/inha_data/test.zip -o/content/inha_data/test/ &> /dev/null\n",
        "# !rm /content/inha_data/test.zip\n",
        "\n",
        "# !unzip /content/drive/MyDrive/face_asian.zip &> /dev/null\n",
        "\n",
        "!unzip /content/drive/MyDrive/valid_lfw.zip -d /content/ &> /dev/null\n",
        "!unzip /content/drive/MyDrive/valid_cfp_ff.zip -d /content/ &> /dev/null\n",
        "!unzip /content/drive/MyDrive/valid_megaface.zip -d /content/ &> /dev/null\n",
        "\n",
        "!unzip /content/drive/MyDrive/valid_agedb_30.zip -d /content/ &> /dev/null\n",
        "!unzip /content/drive/MyDrive/valid_calfw.zip -d /content/ &> /dev/null\n",
        "\n",
        "!unzip /content/drive/MyDrive/valid_cfp_fp.zip -d /content/ &> /dev/null\n",
        "# !unzip /content/drive/MyDrive/valid_cplfw.zip -d /content/ &> /dev/null\n",
        "!unzip /content/drive/MyDrive/valid_vgg2_fp.zip -d /content/ &> /dev/null\n",
        "\n",
        "!unzip /content/drive/MyDrive/valid_asian.zip -d /content/ &> /dev/null\n",
        "\n",
        "# # !pip install bcolz &> /dev/null \n",
        " \n",
        "%cd /content/drive/MyDrive/FACE_AI_share"
      ],
      "execution_count": null,
      "outputs": [
        {
          "output_type": "stream",
          "text": [
            "/content\n",
            "/content/drive/MyDrive/FACE_AI_share\n"
          ],
          "name": "stdout"
        }
      ]
    },
    {
      "cell_type": "code",
      "metadata": {
        "colab": {
          "base_uri": "https://localhost:8080/"
        },
        "id": "a0drVYgTyvuU",
        "outputId": "b38c1c47-b393-4ccc-c84f-86576da347aa"
      },
      "source": [
        "%cd /content/drive/MyDrive/FACE_AI_share/weights/setup\n",
        "!gdown --id 1-GaSXON8ugr3pGHGEpGyAmaqYStS-LMg\n",
        "%cd /content/drive/MyDrive/FACE_AI_share"
      ],
      "execution_count": null,
      "outputs": [
        {
          "output_type": "stream",
          "text": [
            "/content/drive/MyDrive/FACE_AI_share/weights/setup\n",
            "Downloading...\n",
            "From: https://drive.google.com/uc?id=1-GaSXON8ugr3pGHGEpGyAmaqYStS-LMg\n",
            "To: /content/drive/MyDrive/FACE_AI_share/weights/setup/r18-s30-e8-lr0003.pth\n",
            "86.9MB [00:01, 85.5MB/s]\n",
            "/content/drive/MyDrive/FACE_AI_share\n"
          ],
          "name": "stdout"
        }
      ]
    },
    {
      "cell_type": "markdown",
      "metadata": {
        "id": "M1l4NqzWuzGS"
      },
      "source": [
        "~~~\n",
        "function CreateShell(){\n",
        "  console.log(\"Working\"); \n",
        "  document.querySelector(\"colab-toolbar-button\").click();\n",
        "}\n",
        "setInterval(CreateShell, 30*60*1000);\n",
        "\n",
        "clearInterval(CreateShell);\n",
        "~~~"
      ]
    },
    {
      "cell_type": "markdown",
      "metadata": {
        "id": "3VOGyopG2pUL"
      },
      "source": [
        "# Training"
      ]
    },
    {
      "cell_type": "markdown",
      "metadata": {
        "id": "10UjwTZvo34-"
      },
      "source": [
        "## dataset\n",
        "\n",
        "ms1mv2: 5.8M\n",
        "\n",
        "inha_data/train: 4M MS1MV2\n",
        "\n",
        "inha_data/test: 6K LFW\n",
        "\n",
        "Closed set: ms1mv2\n",
        "\n",
        "Open set: CASIA, MegaFace, CALFW, CPLFW\n",
        "\n",
        "\n",
        "\n",
        "## details in paper\n",
        "\n",
        "feature scale s to 64 \n",
        "\n",
        "the angular margin m of ArcFace at 0.5\n",
        "\n",
        "the batch size to 512 \n",
        "\n",
        "the learning rate starts from 0.1 and is divided by 10 at 100K, 160K iterations and finish at 180K iterations. \n",
        "\n",
        "We set momentum to 0.9 and weight decay to 5e - 4."
      ]
    },
    {
      "cell_type": "markdown",
      "metadata": {
        "id": "vpkQkPSb29Ty"
      },
      "source": [
        "## acc table\n",
        "\n",
        "| resnet | s  | m   | lr   | score |\n",
        "|:------:|:--:|:---:|:----:|:-----:|\n",
        "| 101    | 64 | 0.5 | 0.1  | 0.9582|\n",
        "| 101    | 30 | 0.5 | 0.1  | 0.9611|\n",
        "| **50**  | **64** | **0.5** | **0.1**  | **0.9838**|\n",
        "| 50     | 30 | 0.5  | 0.1  | 0.9686 |\n",
        "| 18     | 30 | 0.5 | 0.001|  |\n",
        "| 18     | 10 | 0.5 | 0.1  | 0.9489|\n",
        "\n",
        "## epoch\n",
        "\n",
        "### r50 s64\n",
        "\n",
        "- e1 lr0.1 (ms1m\tlfw\tcfp_ff\tmegaface)\n",
        " - e2 lr0.1 \n",
        " - e2 lr0.01 (0.988\t0.989\t0.982\t0.955)\n",
        "\n",
        "### r18 \n",
        "\n"
      ]
    },
    {
      "cell_type": "code",
      "metadata": {
        "id": "Ucm9ISxzMm6E"
      },
      "source": [
        "%cd /content/drive/MyDrive/FACE_AI_share\n",
        "!python train.py --model r18 --epoch 1 --bs 256 --lr 0.1\n",
        "!python train.py --model r18 --epoch 2 --bs 256 --lr 0.1 --trained_model r18-s30-e1-lr001\n",
        "!python train.py --model r18 --epoch 3 --bs 256 --lr 0.1 --trained_model r18-s30-e2-lr001"
      ],
      "execution_count": null,
      "outputs": []
    },
    {
      "cell_type": "code",
      "metadata": {
        "id": "CljPUJ1Tpeif"
      },
      "source": [
        "!python train.py --model r18 --epoch 11 --bs 256 --lr 0.0004 --trained_model r18-s30-e10-lr00007"
      ],
      "execution_count": null,
      "outputs": []
    },
    {
      "cell_type": "markdown",
      "metadata": {
        "id": "-frtMfYO2rq3"
      },
      "source": [
        "# Validation"
      ]
    },
    {
      "cell_type": "code",
      "metadata": {
        "colab": {
          "base_uri": "https://localhost:8080/"
        },
        "id": "t_KvWr0Fq8JF",
        "outputId": "c6f6b049-cb94-400d-ac3e-9d894afbcfd1"
      },
      "source": [
        "%cd /content/drive/MyDrive/FACE_AI_share\n",
        "!python make_valid_ms1m.py --trained_model 'r18-arc-s10m05-e1-lr01' --src './train_eval/ms1m_valid1.csv' --model resnet18"
      ],
      "execution_count": null,
      "outputs": [
        {
          "output_type": "stream",
          "text": [
            "[Errno 2] No such file or directory: '/content/drive/MyDrive/FACE_AI_share &> /dev/null'\n",
            "/content/drive/MyDrive/FACE_AI_share/model\n"
          ],
          "name": "stdout"
        }
      ]
    },
    {
      "cell_type": "markdown",
      "metadata": {
        "id": "_vze8yBv2tv2"
      },
      "source": [
        "# Test"
      ]
    },
    {
      "cell_type": "code",
      "metadata": {
        "colab": {
          "base_uri": "https://localhost:8080/"
        },
        "id": "cITYCdy6t5iG",
        "outputId": "f10ec93b-0c1e-494d-8e0a-9f8b494325ab"
      },
      "source": [
        "!python submit.py --trained_model 'r101-arc-s30-m05-e1-lr01' --src '/content/inha_data/sample_submission.csv' --model resnet101"
      ],
      "execution_count": null,
      "outputs": [
        {
          "output_type": "stream",
          "text": [
            "load model from ./weights/setup/r101-arc-s30-m05-e1-lr01.pth\n",
            "save submission file to /content/drive/MyDrive/FACE_AI_share/submissions/r101-arc-s30-m05-e1-lr01.csv \n",
            "\n",
            "100% 100/100 [00:09<00:00, 10.50it/s]\n",
            "100% 100/100 [00:09<00:00, 10.50it/s]\n"
          ],
          "name": "stdout"
        }
      ]
    },
    {
      "cell_type": "markdown",
      "metadata": {
        "id": "DNPwzI7ojke3"
      },
      "source": [
        "# Val Data Load\n",
        "\n",
        "\n",
        "##datasets\n",
        "\n",
        "~~~\n",
        "https://github.com/ZhaoJ9014/face.evoLVe.PyTorch#data-zoo\n",
        "\n",
        "https://github.com/deepinsight/insightface/tree/master/recognition/_datasets_\n",
        "\n",
        "https://github.com/zma-c-137/VarGFaceNet\n",
        "~~~\n",
        "\n",
        "### validation\n",
        "\n",
        "|Database|Version|\\#Identity|\\#Image|status|\\#Video|Download Link|\n",
        "|:---:|:----:|:-----:|:-----:|:-----:|:-----:|:-----:|\n",
        "|LFW 1G|Align_112x112|5,749|13,233|test|-|[Google Drive](https://drive.google.com/file/d/1WO5Meh_yAau00Gm2Rz2Pc0SRldLQYigT/view?usp=sharing)|\n",
        "|CALFW 1G|Align_112x112|4,025|12,174|saved-ca|-|[Google Drive](https://drive.google.com/file/d/1kpmcDeDmPqUcI5uX0MCBzpP_8oQVojzW/view?usp=sharing)|\n",
        "|CPLFW 1G|Align_112x112|3,884|11,652|saved-cp|-|[Google Drive](https://drive.google.com/file/d/14vPvDngGzsc94pQ4nRNfuBTxdv7YVn2Q/view?usp=sharing)|\n",
        "|AgeDB 1G|Align_112x112|570|16,488|saved-ca|-|[Google Drive](https://drive.google.com/file/d/1AoZrZfym5ZhdTyKSxD0qxa7Xrp2Q1ftp/view?usp=sharing)|\n",
        "|CFP 80M|Raw|500|7,000|need|-|[Google Drive](https://drive.google.com/file/d/1tGNtqzWeUx3BYAxRHBbH1Wy7AmyFtZkU/view?usp=sharing)|\n",
        "|CFP 2.3G|Align_112x112|500|7,000|saved-ff/fp, too much margin|-|[Google Drive](https://drive.google.com/file/d/1-sDn79lTegXRNhFuRnIRsgdU88cBfW6V/view?usp=sharing)|\n",
        "|Vggface2_FP 1G|Align_112x112|-|-|saved-fp|-|[Google Drive](https://drive.google.com/file/d/1N7QEEQZPJ2s5Hs34urjseFwIoPVSmn4r/view?usp=sharing)|\n",
        "|MegaFace 5.4G|-|-|-|-|-|[Google Drive](https://drive.google.com/file/d/1KBwp0U9oZgZj7SYDXRxUnnH7Lwvd9XMy/view)|\n",
        "\n",
        "\n",
        "### train\n",
        "\n",
        "|Database|Version|\\#Identity|\\#Image|\\#Frame|\\#Video|Download Link|\n",
        "|:---:|:----:|:-----:|:-----:|:-----:|:-----:|:-----:|\n",
        "|Asia|Align_112x112|93979|2830146|-|-||\n",
        "\n",
        "---"
      ]
    },
    {
      "cell_type": "code",
      "metadata": {
        "colab": {
          "base_uri": "https://localhost:8080/"
        },
        "id": "RYLUi7To1g8N",
        "outputId": "195a86f9-a89b-45a1-83ca-c81141982db3"
      },
      "source": [
        "!ls ./valid_lfw/valid/ | wc -l"
      ],
      "execution_count": null,
      "outputs": [
        {
          "output_type": "stream",
          "text": [
            "12000\n"
          ],
          "name": "stdout"
        }
      ]
    },
    {
      "cell_type": "code",
      "metadata": {
        "id": "iJTjXvL3yNL4"
      },
      "source": [
        "import matplotlib.pyplot as plt\n",
        "import cv2\n",
        "import pandas as pd\n",
        "\n",
        "name = 'cplfw'\n",
        "issame = pd.read_csv('/content/valid_' + name + '/answer.csv')\n",
        "\n",
        "\n",
        "for t in range(400, 450, 10):\n",
        "  fig = plt.figure(figsize=(20, 10))\n",
        "  for i in range(10):\n",
        "    ax = fig.add_subplot(1, 10, i + 1)\n",
        "    ax.imshow(cv2.cvtColor(cv2.imread('/content/valid_' + name + '/valid/left_face_' + str(i + t) + '.jpg'), cv2.COLOR_BGR2RGB))\n",
        "\n",
        "  for i in range(10):\n",
        "    ax2 = fig.add_subplot(2, 10, i + 11)\n",
        "    ax2.imshow(cv2.cvtColor(cv2.imread('/content/valid_' + name + '/valid/right_face_' + str(i + t) + '.jpg'), cv2.COLOR_BGR2RGB))\n",
        "\n",
        "  print(issame['answer'][t:t+10].to_numpy())\n",
        "\n",
        "  plt.show()"
      ],
      "execution_count": null,
      "outputs": []
    },
    {
      "cell_type": "code",
      "metadata": {
        "id": "h_xIiosam4s8"
      },
      "source": [
        "import pandas as pd\n",
        "\n",
        "# d1 = pd.read_csv('/content/drive/MyDrive/FACE_AI_share/train_eval/r18-s30-e1-lr001.csv')\n",
        "# d2 = pd.read_csv('/content/drive/MyDrive/FACE_AI_share/train_eval/r18-s30-e2-lr001.csv')\n",
        "# d3 = pd.read_csv('/content/drive/MyDrive/FACE_AI_share/train_eval/r18-s30-e3-lr001.csv')\n",
        "# d4 = pd.read_csv('/content/drive/MyDrive/FACE_AI_share/train_eval/r18-s30-e4-lr001.csv')\n",
        "# d5 = pd.read_csv('/content/drive/MyDrive/FACE_AI_share/train_eval/r18-s30-e5-lr001.csv')\n",
        "\n",
        "d1 = pd.read_csv('/content/drive/MyDrive/FACE_AI_share/train_eval/r18-s30-e5-lr001-wd1e5.csv')\n",
        "d2 = pd.read_csv('/content/drive/MyDrive/FACE_AI_share/train_eval/r18-s30-e6-lr001-wd1e5.csv')\n",
        "d3 = pd.read_csv('/content/drive/MyDrive/FACE_AI_share/train_eval/r18-s30-e7-lr001-wd1e5.csv')\n",
        "\n",
        "d = pd.concat([d1, d2, d3], ignore_index=True)\n",
        "d.plot()"
      ],
      "execution_count": null,
      "outputs": []
    }
  ]
}